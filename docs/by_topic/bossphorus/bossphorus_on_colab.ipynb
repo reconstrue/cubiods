{
  "nbformat": 4,
  "nbformat_minor": 0,
  "metadata": {
    "colab": {
      "name": "bossphorus_on_colab.ipynb",
      "provenance": [],
      "collapsed_sections": []
    },
    "kernelspec": {
      "name": "python3",
      "display_name": "Python 3"
    }
  },
  "cells": [
    {
      "cell_type": "markdown",
      "metadata": {
        "id": "ff3Sx0xevsdD",
        "colab_type": "text"
      },
      "source": [
        "# Bossphorus on Colab\n",
        "\n",
        "Let's see if this wee beast would make for a nice cache/backend for cuboid API work.\n",
        "\n",
        "See [Neuroboss Issue #8](https://github.com/reconstrue/neuroboss/issues/8)"
      ]
    },
    {
      "cell_type": "markdown",
      "metadata": {
        "id": "BvRXWvntwPLh",
        "colab_type": "text"
      },
      "source": [
        "## RTFM Install\n",
        "\n",
        "As per the bossphorus instructions, [pip Method](https://github.com/aplbrain/bossphorus#pip-method):\n"
      ]
    },
    {
      "cell_type": "code",
      "metadata": {
        "id": "YrIhH6aFvm1Q",
        "colab_type": "code",
        "colab": {
          "base_uri": "https://localhost:8080/",
          "height": 1000
        },
        "outputId": "1c073d61-bbb1-4235-8847-17c6cb5b20dc"
      },
      "source": [
        "!pip3 install --upgrade --verbose bossphorus"
      ],
      "execution_count": 6,
      "outputs": [
        {
          "output_type": "stream",
          "text": [
            "Created temporary directory: /tmp/pip-ephem-wheel-cache-54ua013t\n",
            "Created temporary directory: /tmp/pip-req-tracker-8hduc2z7\n",
            "Created requirements tracker '/tmp/pip-req-tracker-8hduc2z7'\n",
            "Created temporary directory: /tmp/pip-install-gl1qog_r\n",
            "1 location(s) to search for versions of bossphorus:\n",
            "* https://pypi.org/simple/bossphorus/\n",
            "Getting page https://pypi.org/simple/bossphorus/\n",
            "Found index url https://pypi.org/simple\n",
            "Looking up \"https://pypi.org/simple/bossphorus/\" in the cache\n",
            "Request header has \"max_age\" as 0, cache bypassed\n",
            "Starting new HTTPS connection (1): pypi.org:443\n",
            "https://pypi.org:443 \"GET /simple/bossphorus/ HTTP/1.1\" 304 0\n",
            "Analyzing links from page https://pypi.org/simple/bossphorus/\n",
            "  Found link https://files.pythonhosted.org/packages/d1/88/48592ad7cec175af4147205061822f68144660a65e16fa4162408057dffb/bossphorus-0.1.0.tar.gz#sha256=7dd36559595b71346d10c86490cf288ab782fa1eb4262e02c6ef09c96b276488 (from https://pypi.org/simple/bossphorus/), version: 0.1.0\n",
            "Given no hashes to check 1 links for project 'bossphorus': discarding no candidates\n",
            "Using version 0.1.0 (newest of versions: 0.1.0)\n",
            "Collecting bossphorus\n",
            "  Created temporary directory: /tmp/pip-unpack-u92yxiup\n",
            "  Looking up \"https://files.pythonhosted.org/packages/d1/88/48592ad7cec175af4147205061822f68144660a65e16fa4162408057dffb/bossphorus-0.1.0.tar.gz\" in the cache\n",
            "  Current age based on date: 694\n",
            "  Ignoring unknown cache-control directive: immutable\n",
            "  Freshness lifetime from max-age: 365000000\n",
            "  The response is \"fresh\", returning cached response\n",
            "  365000000 > 694\n",
            "  Using cached https://files.pythonhosted.org/packages/d1/88/48592ad7cec175af4147205061822f68144660a65e16fa4162408057dffb/bossphorus-0.1.0.tar.gz\n",
            "  Added bossphorus from https://files.pythonhosted.org/packages/d1/88/48592ad7cec175af4147205061822f68144660a65e16fa4162408057dffb/bossphorus-0.1.0.tar.gz#sha256=7dd36559595b71346d10c86490cf288ab782fa1eb4262e02c6ef09c96b276488 to build tracker '/tmp/pip-req-tracker-8hduc2z7'\n",
            "    Running setup.py (path:/tmp/pip-install-gl1qog_r/bossphorus/setup.py) egg_info for package bossphorus\n",
            "    Running command python setup.py egg_info\n",
            "    Traceback (most recent call last):\n",
            "      File \"<string>\", line 1, in <module>\n",
            "      File \"/tmp/pip-install-gl1qog_r/bossphorus/setup.py\", line 4, in <module>\n",
            "        import bossphorus\n",
            "      File \"/tmp/pip-install-gl1qog_r/bossphorus/bossphorus/__init__.py\", line 24, in <module>\n",
            "        import blosc\n",
            "    ModuleNotFoundError: No module named 'blosc'\n",
            "Cleaning up...\n",
            "  Removing source in /tmp/pip-install-gl1qog_r/bossphorus\n",
            "Removed bossphorus from https://files.pythonhosted.org/packages/d1/88/48592ad7cec175af4147205061822f68144660a65e16fa4162408057dffb/bossphorus-0.1.0.tar.gz#sha256=7dd36559595b71346d10c86490cf288ab782fa1eb4262e02c6ef09c96b276488 from build tracker '/tmp/pip-req-tracker-8hduc2z7'\n",
            "Removed build tracker '/tmp/pip-req-tracker-8hduc2z7'\n",
            "\u001b[31mERROR: Command errored out with exit status 1: python setup.py egg_info Check the logs for full command output.\u001b[0m\n",
            "Exception information:\n",
            "Traceback (most recent call last):\n",
            "  File \"/usr/local/lib/python3.6/dist-packages/pip/_internal/cli/base_command.py\", line 153, in _main\n",
            "    status = self.run(options, args)\n",
            "  File \"/usr/local/lib/python3.6/dist-packages/pip/_internal/commands/install.py\", line 382, in run\n",
            "    resolver.resolve(requirement_set)\n",
            "  File \"/usr/local/lib/python3.6/dist-packages/pip/_internal/legacy_resolve.py\", line 201, in resolve\n",
            "    self._resolve_one(requirement_set, req)\n",
            "  File \"/usr/local/lib/python3.6/dist-packages/pip/_internal/legacy_resolve.py\", line 365, in _resolve_one\n",
            "    abstract_dist = self._get_abstract_dist_for(req_to_install)\n",
            "  File \"/usr/local/lib/python3.6/dist-packages/pip/_internal/legacy_resolve.py\", line 313, in _get_abstract_dist_for\n",
            "    req, self.session, self.finder, self.require_hashes\n",
            "  File \"/usr/local/lib/python3.6/dist-packages/pip/_internal/operations/prepare.py\", line 224, in prepare_linked_requirement\n",
            "    req, self.req_tracker, finder, self.build_isolation,\n",
            "  File \"/usr/local/lib/python3.6/dist-packages/pip/_internal/operations/prepare.py\", line 49, in _get_prepared_distribution\n",
            "    abstract_dist.prepare_distribution_metadata(finder, build_isolation)\n",
            "  File \"/usr/local/lib/python3.6/dist-packages/pip/_internal/distributions/source/legacy.py\", line 39, in prepare_distribution_metadata\n",
            "    self.req.prepare_metadata()\n",
            "  File \"/usr/local/lib/python3.6/dist-packages/pip/_internal/req/req_install.py\", line 563, in prepare_metadata\n",
            "    self.metadata_directory = metadata_generator(self)\n",
            "  File \"/usr/local/lib/python3.6/dist-packages/pip/_internal/operations/generate_metadata.py\", line 124, in _generate_metadata_legacy\n",
            "    command_desc='python setup.py egg_info',\n",
            "  File \"/usr/local/lib/python3.6/dist-packages/pip/_internal/utils/subprocess.py\", line 242, in call_subprocess\n",
            "    raise InstallationError(exc_msg)\n",
            "pip._internal.exceptions.InstallationError: Command errored out with exit status 1: python setup.py egg_info Check the logs for full command output.\n"
          ],
          "name": "stdout"
        }
      ]
    }
  ]
}